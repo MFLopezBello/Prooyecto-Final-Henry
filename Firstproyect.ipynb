{
  "nbformat": 4,
  "nbformat_minor": 0,
  "metadata": {
    "colab": {
      "provenance": [],
      "authorship_tag": "ABX9TyPGeaobFmf+GREH3GJIdyQk",
      "include_colab_link": true
    },
    "kernelspec": {
      "name": "python3",
      "display_name": "Python 3"
    },
    "language_info": {
      "name": "python"
    }
  },
  "cells": [
    {
      "cell_type": "markdown",
      "metadata": {
        "id": "view-in-github",
        "colab_type": "text"
      },
      "source": [
        "<a href=\"https://colab.research.google.com/github/alanguev1/proyecto-final/blob/main/Firstproyect.ipynb\" target=\"_parent\"><img src=\"https://colab.research.google.com/assets/colab-badge.svg\" alt=\"Open In Colab\"/></a>"
      ]
    },
    {
      "cell_type": "code",
      "execution_count": null,
      "metadata": {
        "colab": {
          "base_uri": "https://localhost:8080/"
        },
        "id": "T-MZUGy3f8Ix",
        "outputId": "10464388-14c5-4621-b90d-d21edb2ebbfd"
      },
      "outputs": [
        {
          "output_type": "stream",
          "name": "stdout",
          "text": [
            "Go to the following link in your browser:\n",
            "\n",
            "    https://accounts.google.com/o/oauth2/auth?response_type=code&client_id=32555940559.apps.googleusercontent.com&redirect_uri=https%3A%2F%2Fsdk.cloud.google.com%2Fauthcode.html&scope=openid+https%3A%2F%2Fwww.googleapis.com%2Fauth%2Fuserinfo.email+https%3A%2F%2Fwww.googleapis.com%2Fauth%2Fcloud-platform+https%3A%2F%2Fwww.googleapis.com%2Fauth%2Fappengine.admin+https%3A%2F%2Fwww.googleapis.com%2Fauth%2Fsqlservice.login+https%3A%2F%2Fwww.googleapis.com%2Fauth%2Fcompute+https%3A%2F%2Fwww.googleapis.com%2Fauth%2Faccounts.reauth&state=adL8VSWgrhCIhOhL7PFaAe8aH7ecVI&prompt=consent&token_usage=remote&access_type=offline&code_challenge=1Kf0xC2d9PukqJywIr199qDwuTKIo6B3N8aNvqz4Ooc&code_challenge_method=S256\n",
            "\n",
            "Enter authorization code: 4/0AeaYSHDGCD7C3-izBmnKj2lt9boAOUCQyiDfIW2-QN2oJ23awuw-ys5d5ays_ECr_aXCtA\n",
            "\u001b[1;31mERROR:\u001b[0m gcloud crashed (InvalidGrantError): (invalid_grant) Bad Request\n",
            "\n",
            "If you would like to report this issue, please run the following command:\n",
            "  gcloud feedback\n",
            "\n",
            "To check gcloud for common problems, please run the following command:\n",
            "  gcloud info --run-diagnostics\n"
          ]
        }
      ],
      "source": [
        "!gcloud auth login"
      ]
    },
    {
      "cell_type": "code",
      "source": [
        "!gcloud config set project <coastal-science-418413>"
      ],
      "metadata": {
        "colab": {
          "base_uri": "https://localhost:8080/"
        },
        "id": "2B0YXnrzg0CY",
        "outputId": "746192c6-da65-449e-bff1-fc88a7e17a58"
      },
      "execution_count": null,
      "outputs": [
        {
          "output_type": "stream",
          "name": "stdout",
          "text": [
            "/bin/bash: -c: line 1: syntax error near unexpected token `newline'\n",
            "/bin/bash: -c: line 1: `gcloud config set project <coastal-science-418413>'\n"
          ]
        }
      ]
    },
    {
      "cell_type": "code",
      "source": [
        "from google.cloud import storage"
      ],
      "metadata": {
        "id": "hKbLJTdXhI7f"
      },
      "execution_count": null,
      "outputs": []
    },
    {
      "cell_type": "code",
      "source": [
        "client = storage.Client()"
      ],
      "metadata": {
        "id": "hwmDSxOphPAq"
      },
      "execution_count": null,
      "outputs": []
    },
    {
      "cell_type": "code",
      "source": [
        "from google.oauth2 import service_account\n",
        "\n",
        "# Ruta al archivo JSON de las credenciales de servicio\n",
        "credentials_path = '/content/coastal-science-418413-cc76cc85ae9d.json'  # Reemplaza 'nombre_del_archivo.json' con el nombre real de tu archivo\n",
        "\n",
        "# Crea las credenciales a partir del archivo JSON cargado\n",
        "credentials = service_account.Credentials.from_service_account_file(credentials_path)\n"
      ],
      "metadata": {
        "id": "x2tn8dVuhU8j"
      },
      "execution_count": null,
      "outputs": []
    },
    {
      "cell_type": "code",
      "source": [
        "from google.colab import drive\n",
        "drive.mount('/content/drive')"
      ],
      "metadata": {
        "id": "QVv2mTtgJsq5",
        "colab": {
          "base_uri": "https://localhost:8080/"
        },
        "outputId": "67fcc818-5eb2-4028-bc10-c32543dc3a74"
      },
      "execution_count": null,
      "outputs": [
        {
          "output_type": "stream",
          "name": "stdout",
          "text": [
            "Drive already mounted at /content/drive; to attempt to forcibly remount, call drive.mount(\"/content/drive\", force_remount=True).\n"
          ]
        }
      ]
    },
    {
      "cell_type": "code",
      "source": [
        "client = storage.Client(credentials=credentials)"
      ],
      "metadata": {
        "id": "vaGUrtvElxy-"
      },
      "execution_count": null,
      "outputs": []
    },
    {
      "cell_type": "code",
      "source": [
        "bucket_name = 'bucket_datasets_principales'"
      ],
      "metadata": {
        "id": "fRH93DbkmuHe"
      },
      "execution_count": null,
      "outputs": []
    },
    {
      "cell_type": "code",
      "source": [
        "bucket = client.get_bucket(bucket_name)"
      ],
      "metadata": {
        "id": "CjBqolgWm2zO"
      },
      "execution_count": null,
      "outputs": []
    },
    {
      "cell_type": "code",
      "source": [
        "blobs = bucket.list_blobs()"
      ],
      "metadata": {
        "id": "ASkLuQu6m94b"
      },
      "execution_count": null,
      "outputs": []
    },
    {
      "cell_type": "code",
      "source": [
        "for blob in blobs:\n",
        "  print(blob.name)"
      ],
      "metadata": {
        "colab": {
          "base_uri": "https://localhost:8080/"
        },
        "id": "H7cgie7ynECa",
        "outputId": "5f2f5a48-d377-4092-e4a4-ec2f78e49c06"
      },
      "execution_count": null,
      "outputs": [
        {
          "output_type": "stream",
          "name": "stdout",
          "text": [
            "2009/yellow_tripdata_2009-01 (1).parquet\n",
            "2009/yellow_tripdata_2009-02.parquet\n",
            "2009/yellow_tripdata_2009-03.parquet\n",
            "2009/yellow_tripdata_2009-04.parquet\n",
            "2009/yellow_tripdata_2009-05.parquet\n",
            "2009/yellow_tripdata_2009-06.parquet\n",
            "2009/yellow_tripdata_2009-07.parquet\n",
            "2009/yellow_tripdata_2009-08.parquet\n",
            "2009/yellow_tripdata_2009-09.parquet\n",
            "2009/yellow_tripdata_2009-10.parquet\n",
            "2009/yellow_tripdata_2009-11.parquet\n",
            "2009/yellow_tripdata_2009-12.parquet\n",
            "2010/yellow_tripdata_2010-01.parquet\n",
            "2010/yellow_tripdata_2010-02.parquet\n",
            "2010/yellow_tripdata_2010-03.parquet\n",
            "2010/yellow_tripdata_2010-04.parquet\n",
            "2010/yellow_tripdata_2010-05.parquet\n",
            "2010/yellow_tripdata_2010-06.parquet\n",
            "2010/yellow_tripdata_2010-07.parquet\n",
            "2010/yellow_tripdata_2010-08.parquet\n",
            "2010/yellow_tripdata_2010-09.parquet\n",
            "2010/yellow_tripdata_2010-10.parquet\n",
            "2010/yellow_tripdata_2010-11.parquet\n",
            "2010/yellow_tripdata_2010-12.parquet\n",
            "2011/yellow_tripdata_2011-01.parquet\n",
            "2011/yellow_tripdata_2011-02.parquet\n",
            "2011/yellow_tripdata_2011-03.parquet\n",
            "2011/yellow_tripdata_2011-04.parquet\n",
            "2011/yellow_tripdata_2011-05.parquet\n",
            "2011/yellow_tripdata_2011-06.parquet\n",
            "2011/yellow_tripdata_2011-07.parquet\n",
            "2011/yellow_tripdata_2011-08.parquet\n",
            "2011/yellow_tripdata_2011-09.parquet\n",
            "2011/yellow_tripdata_2011-10.parquet\n",
            "2011/yellow_tripdata_2011-11.parquet\n",
            "2011/yellow_tripdata_2011-12.parquet\n",
            "2012/2012/yellow_tripdata_2012-01.parquet\n",
            "2012/2012/yellow_tripdata_2012-02.parquet\n",
            "2012/2012/yellow_tripdata_2012-03.parquet\n",
            "2012/2012/yellow_tripdata_2012-04.parquet\n",
            "2012/2012/yellow_tripdata_2012-05.parquet\n",
            "2012/2012/yellow_tripdata_2012-06.parquet\n",
            "2012/2012/yellow_tripdata_2012-07.parquet\n",
            "2012/2012/yellow_tripdata_2012-08.parquet\n",
            "2012/2012/yellow_tripdata_2012-09.parquet\n",
            "2012/2012/yellow_tripdata_2012-10.parquet\n",
            "2012/2012/yellow_tripdata_2012-11.parquet\n",
            "2012/2012/yellow_tripdata_2012-12.parquet\n",
            "2013/yellow_tripdata_2013-01.parquet\n",
            "2013/yellow_tripdata_2013-02.parquet\n",
            "2013/yellow_tripdata_2013-03.parquet\n",
            "2013/yellow_tripdata_2013-04.parquet\n",
            "2013/yellow_tripdata_2013-05.parquet\n",
            "2013/yellow_tripdata_2013-06.parquet\n",
            "2013/yellow_tripdata_2013-07.parquet\n",
            "2013/yellow_tripdata_2013-08.parquet\n",
            "2013/yellow_tripdata_2013-09.parquet\n",
            "2013/yellow_tripdata_2013-10.parquet\n",
            "2013/yellow_tripdata_2013-11.parquet\n",
            "2013/yellow_tripdata_2013-12.parquet\n",
            "2014/green/green_tripdata_2014-01.parquet\n",
            "2014/green/green_tripdata_2014-02.parquet\n",
            "2014/green/green_tripdata_2014-03.parquet\n",
            "2014/green/green_tripdata_2014-04.parquet\n",
            "2014/green/green_tripdata_2014-05.parquet\n",
            "2014/green/green_tripdata_2014-06.parquet\n",
            "2014/green/green_tripdata_2014-07.parquet\n",
            "2014/green/green_tripdata_2014-08.parquet\n",
            "2014/green/green_tripdata_2014-09.parquet\n",
            "2014/green/green_tripdata_2014-10.parquet\n",
            "2014/green/green_tripdata_2014-11.parquet\n",
            "2014/green/green_tripdata_2014-12.parquet\n",
            "2014/yellow/yellow_tripdata_2014-01.parquet\n",
            "2014/yellow/yellow_tripdata_2014-02.parquet\n",
            "2014/yellow/yellow_tripdata_2014-03.parquet\n",
            "2014/yellow/yellow_tripdata_2014-04.parquet\n",
            "2014/yellow/yellow_tripdata_2014-05.parquet\n",
            "2014/yellow/yellow_tripdata_2014-06.parquet\n",
            "2014/yellow/yellow_tripdata_2014-07.parquet\n",
            "2014/yellow/yellow_tripdata_2014-08.parquet\n",
            "2014/yellow/yellow_tripdata_2014-09.parquet\n",
            "2014/yellow/yellow_tripdata_2014-10.parquet\n",
            "2014/yellow/yellow_tripdata_2014-11.parquet\n",
            "2014/yellow/yellow_tripdata_2014-12.parquet\n",
            "2015/For-Hire/fhv_tripdata_2015-01.parquet\n",
            "2015/For-Hire/fhv_tripdata_2015-02.parquet\n",
            "2015/For-Hire/fhv_tripdata_2015-03.parquet\n",
            "2015/For-Hire/fhv_tripdata_2015-04.parquet\n",
            "2015/For-Hire/fhv_tripdata_2015-05.parquet\n",
            "2015/For-Hire/fhv_tripdata_2015-06.parquet\n",
            "2015/For-Hire/fhv_tripdata_2015-07.parquet\n",
            "2015/For-Hire/fhv_tripdata_2015-08.parquet\n",
            "2015/For-Hire/fhv_tripdata_2015-09.parquet\n",
            "2015/For-Hire/fhv_tripdata_2015-10.parquet\n",
            "2015/For-Hire/fhv_tripdata_2015-11.parquet\n",
            "2015/For-Hire/fhv_tripdata_2015-12.parquet\n",
            "2015/green/green_tripdata_2015-01.parquet\n",
            "2015/green/green_tripdata_2015-02.parquet\n",
            "2015/green/green_tripdata_2015-03.parquet\n",
            "2015/green/green_tripdata_2015-04.parquet\n",
            "2015/green/green_tripdata_2015-05.parquet\n",
            "2015/green/green_tripdata_2015-06.parquet\n",
            "2015/green/green_tripdata_2015-07.parquet\n",
            "2015/green/green_tripdata_2015-08.parquet\n",
            "2015/green/green_tripdata_2015-09.parquet\n",
            "2015/green/green_tripdata_2015-10.parquet\n",
            "2015/green/green_tripdata_2015-11.parquet\n",
            "2015/green/green_tripdata_2015-12.parquet\n",
            "2015/yellow/yellow_tripdata_2015-01.parquet\n",
            "2015/yellow/yellow_tripdata_2015-02.parquet\n",
            "2015/yellow/yellow_tripdata_2015-03.parquet\n",
            "2015/yellow/yellow_tripdata_2015-04.parquet\n",
            "2015/yellow/yellow_tripdata_2015-05.parquet\n",
            "2015/yellow/yellow_tripdata_2015-06.parquet\n",
            "2015/yellow/yellow_tripdata_2015-07.parquet\n",
            "2015/yellow/yellow_tripdata_2015-08.parquet\n",
            "2015/yellow/yellow_tripdata_2015-09.parquet\n",
            "2015/yellow/yellow_tripdata_2015-10.parquet\n",
            "2015/yellow/yellow_tripdata_2015-11.parquet\n",
            "2015/yellow/yellow_tripdata_2015-12.parquet\n",
            "2016/For-Hire/fhv_tripdata_2016-01.parquet\n",
            "2016/For-Hire/fhv_tripdata_2016-02.parquet\n",
            "2016/For-Hire/fhv_tripdata_2016-03.parquet\n",
            "2016/For-Hire/fhv_tripdata_2016-04.parquet\n",
            "2016/For-Hire/fhv_tripdata_2016-05.parquet\n",
            "2016/For-Hire/fhv_tripdata_2016-06.parquet\n",
            "2016/For-Hire/fhv_tripdata_2016-07.parquet\n",
            "2016/For-Hire/fhv_tripdata_2016-08.parquet\n",
            "2016/For-Hire/fhv_tripdata_2016-09.parquet\n",
            "2016/For-Hire/fhv_tripdata_2016-10.parquet\n",
            "2016/For-Hire/fhv_tripdata_2016-11.parquet\n",
            "2016/For-Hire/fhv_tripdata_2016-12.parquet\n",
            "2016/green/green_tripdata_2016-01.parquet\n",
            "2016/green/green_tripdata_2016-02.parquet\n",
            "2016/green/green_tripdata_2016-03.parquet\n",
            "2016/green/green_tripdata_2016-04.parquet\n",
            "2016/green/green_tripdata_2016-05.parquet\n",
            "2016/green/green_tripdata_2016-06.parquet\n",
            "2016/green/green_tripdata_2016-07.parquet\n",
            "2016/green/green_tripdata_2016-08.parquet\n",
            "2016/green/green_tripdata_2016-09.parquet\n",
            "2016/green/green_tripdata_2016-10.parquet\n",
            "2016/green/green_tripdata_2016-11.parquet\n",
            "2016/green/green_tripdata_2016-12.parquet\n",
            "2016/yellow/yellow_tripdata_2016-01.parquet\n",
            "2016/yellow/yellow_tripdata_2016-02.parquet\n",
            "2016/yellow/yellow_tripdata_2016-03.parquet\n",
            "2016/yellow/yellow_tripdata_2016-04.parquet\n",
            "2016/yellow/yellow_tripdata_2016-05.parquet\n",
            "2016/yellow/yellow_tripdata_2016-06.parquet\n",
            "2016/yellow/yellow_tripdata_2016-07.parquet\n",
            "2016/yellow/yellow_tripdata_2016-08.parquet\n",
            "2016/yellow/yellow_tripdata_2016-09.parquet\n",
            "2016/yellow/yellow_tripdata_2016-10.parquet\n",
            "2016/yellow/yellow_tripdata_2016-11.parquet\n",
            "2016/yellow/yellow_tripdata_2016-12.parquet\n",
            "2017/For-Hire/fhv_tripdata_2017-01.parquet\n",
            "2017/For-Hire/fhv_tripdata_2017-02.parquet\n",
            "2017/For-Hire/fhv_tripdata_2017-03.parquet\n",
            "2017/For-Hire/fhv_tripdata_2017-04.parquet\n",
            "2017/For-Hire/fhv_tripdata_2017-05.parquet\n",
            "2017/For-Hire/fhv_tripdata_2017-06.parquet\n",
            "2017/For-Hire/fhv_tripdata_2017-07.parquet\n",
            "2017/For-Hire/fhv_tripdata_2017-08.parquet\n",
            "2017/For-Hire/fhv_tripdata_2017-09.parquet\n",
            "2017/For-Hire/fhv_tripdata_2017-10.parquet\n",
            "2017/For-Hire/fhv_tripdata_2017-11.parquet\n",
            "2017/For-Hire/fhv_tripdata_2017-12.parquet\n",
            "2017/green/green_tripdata_2017-01.parquet\n",
            "2017/green/green_tripdata_2017-02.parquet\n",
            "2017/green/green_tripdata_2017-03.parquet\n",
            "2017/green/green_tripdata_2017-04.parquet\n",
            "2017/green/green_tripdata_2017-05.parquet\n",
            "2017/green/green_tripdata_2017-06.parquet\n",
            "2017/green/green_tripdata_2017-07.parquet\n",
            "2017/green/green_tripdata_2017-08.parquet\n",
            "2017/green/green_tripdata_2017-09.parquet\n",
            "2017/green/green_tripdata_2017-10.parquet\n",
            "2017/green/green_tripdata_2017-11.parquet\n",
            "2017/green/green_tripdata_2017-12.parquet\n",
            "2017/yellow/yellow_tripdata_2017-01.parquet\n",
            "2017/yellow/yellow_tripdata_2017-02.parquet\n",
            "2017/yellow/yellow_tripdata_2017-03.parquet\n",
            "2018/For-Hire/fhv_tripdata_2018-01.parquet\n",
            "2018/For-Hire/fhv_tripdata_2018-02.parquet\n",
            "2018/For-Hire/fhv_tripdata_2018-03.parquet\n",
            "2018/For-Hire/fhv_tripdata_2018-04.parquet\n",
            "2018/For-Hire/fhv_tripdata_2018-05.parquet\n",
            "2018/For-Hire/fhv_tripdata_2018-06.parquet\n",
            "2018/For-Hire/fhv_tripdata_2018-07.parquet\n",
            "2018/For-Hire/fhv_tripdata_2018-08.parquet\n",
            "2018/For-Hire/fhv_tripdata_2018-09.parquet\n",
            "2018/For-Hire/fhv_tripdata_2018-10.parquet\n",
            "2018/For-Hire/fhv_tripdata_2018-11.parquet\n",
            "2018/For-Hire/fhv_tripdata_2018-12.parquet\n",
            "2018/green/green_tripdata_2018-01.parquet\n",
            "2018/green/green_tripdata_2018-02.parquet\n",
            "2018/green/green_tripdata_2018-03.parquet\n",
            "2018/green/green_tripdata_2018-04.parquet\n",
            "2018/green/green_tripdata_2018-05.parquet\n",
            "2018/green/green_tripdata_2018-06.parquet\n",
            "2018/green/green_tripdata_2018-07.parquet\n",
            "2018/green/green_tripdata_2018-08.parquet\n",
            "2018/green/green_tripdata_2018-09.parquet\n",
            "2018/green/green_tripdata_2018-10.parquet\n",
            "2018/green/green_tripdata_2018-11.parquet\n",
            "2018/green/green_tripdata_2018-12.parquet\n",
            "2018/yellow/yellow_tripdata_2018-01.parquet\n",
            "2018/yellow/yellow_tripdata_2018-02.parquet\n",
            "2018/yellow/yellow_tripdata_2018-03.parquet\n",
            "2018/yellow/yellow_tripdata_2018-04.parquet\n",
            "2018/yellow/yellow_tripdata_2018-05.parquet\n",
            "2018/yellow/yellow_tripdata_2018-06.parquet\n",
            "2018/yellow/yellow_tripdata_2018-07.parquet\n",
            "2018/yellow/yellow_tripdata_2018-08.parquet\n",
            "2018/yellow/yellow_tripdata_2018-09.parquet\n",
            "2018/yellow/yellow_tripdata_2018-10.parquet\n",
            "2018/yellow/yellow_tripdata_2018-11.parquet\n",
            "2018/yellow/yellow_tripdata_2018-12.parquet\n",
            "2019/For-Hire/fhv_tripdata_2019-01.parquet\n",
            "2019/For-Hire/fhv_tripdata_2019-02.parquet\n",
            "2019/For-Hire/fhv_tripdata_2019-03.parquet\n",
            "2019/For-Hire/fhv_tripdata_2019-04.parquet\n",
            "2019/For-Hire/fhv_tripdata_2019-05.parquet\n",
            "2019/For-Hire/fhv_tripdata_2019-06.parquet\n",
            "2019/For-Hire/fhv_tripdata_2019-07.parquet\n",
            "2019/For-Hire/fhv_tripdata_2019-08.parquet\n",
            "2019/For-Hire/fhv_tripdata_2019-09.parquet\n",
            "2019/For-Hire/fhv_tripdata_2019-10.parquet\n",
            "2019/For-Hire/fhv_tripdata_2019-11.parquet\n",
            "2019/For-Hire/fhv_tripdata_2019-12.parquet\n",
            "2019/green/green_tripdata_2019-01.parquet\n",
            "2019/green/green_tripdata_2019-02.parquet\n",
            "2019/green/green_tripdata_2019-03.parquet\n",
            "2019/green/green_tripdata_2019-04.parquet\n",
            "2019/green/green_tripdata_2019-05.parquet\n",
            "2019/green/green_tripdata_2019-06.parquet\n",
            "2019/green/green_tripdata_2019-07.parquet\n",
            "2019/green/green_tripdata_2019-08.parquet\n",
            "2019/green/green_tripdata_2019-09.parquet\n",
            "2019/green/green_tripdata_2019-10.parquet\n",
            "2019/green/green_tripdata_2019-11.parquet\n",
            "2019/green/green_tripdata_2019-12.parquet\n",
            "2019/yellow/yellow_tripdata_2019-01.parquet\n",
            "2019/yellow/yellow_tripdata_2019-02.parquet\n",
            "2019/yellow/yellow_tripdata_2019-03.parquet\n",
            "2019/yellow/yellow_tripdata_2019-04.parquet\n",
            "2019/yellow/yellow_tripdata_2019-05.parquet\n",
            "2019/yellow/yellow_tripdata_2019-06.parquet\n",
            "2019/yellow/yellow_tripdata_2019-07.parquet\n",
            "2019/yellow/yellow_tripdata_2019-08.parquet\n",
            "2019/yellow/yellow_tripdata_2019-09.parquet\n",
            "2019/yellow/yellow_tripdata_2019-10.parquet\n",
            "2019/yellow/yellow_tripdata_2019-11.parquet\n",
            "2019/yellow/yellow_tripdata_2019-12.parquet\n",
            "2020/For-Hire/fhv_tripdata_2020-01.parquet\n",
            "2020/For-Hire/fhv_tripdata_2020-02.parquet\n",
            "2020/For-Hire/fhv_tripdata_2020-03.parquet\n",
            "2020/For-Hire/fhv_tripdata_2020-04.parquet\n",
            "2020/For-Hire/fhv_tripdata_2020-05.parquet\n",
            "2020/For-Hire/fhv_tripdata_2020-06.parquet\n",
            "2020/For-Hire/fhv_tripdata_2020-07.parquet\n",
            "2020/For-Hire/fhv_tripdata_2020-08.parquet\n",
            "2020/For-Hire/fhv_tripdata_2020-09.parquet\n",
            "2020/For-Hire/fhv_tripdata_2020-10.parquet\n",
            "2020/For-Hire/fhv_tripdata_2020-11.parquet\n",
            "2020/For-Hire/fhv_tripdata_2020-12.parquet\n",
            "2020/High Volume/fhvhv_tripdata_2020-01.parquet\n",
            "2020/High Volume/fhvhv_tripdata_2020-02.parquet\n",
            "2020/High Volume/fhvhv_tripdata_2020-03.parquet\n",
            "2020/High Volume/fhvhv_tripdata_2020-04.parquet\n",
            "2020/High Volume/fhvhv_tripdata_2020-05.parquet\n",
            "2020/High Volume/fhvhv_tripdata_2020-06.parquet\n",
            "2020/High Volume/fhvhv_tripdata_2020-07.parquet\n",
            "2020/High Volume/fhvhv_tripdata_2020-08.parquet\n",
            "2020/High Volume/fhvhv_tripdata_2020-09.parquet\n",
            "2020/High Volume/fhvhv_tripdata_2020-10.parquet\n",
            "2020/High Volume/fhvhv_tripdata_2020-11.parquet\n",
            "2020/High Volume/fhvhv_tripdata_2020-12.parquet\n",
            "2020/green/green_tripdata_2020-01.parquet\n",
            "2020/green/green_tripdata_2020-02.parquet\n",
            "2020/green/green_tripdata_2020-03.parquet\n",
            "2020/green/green_tripdata_2020-04.parquet\n",
            "2020/green/green_tripdata_2020-05.parquet\n",
            "2020/green/green_tripdata_2020-06.parquet\n",
            "2020/green/green_tripdata_2020-07.parquet\n",
            "2020/green/green_tripdata_2020-08.parquet\n",
            "2020/green/green_tripdata_2020-09.parquet\n",
            "2020/green/green_tripdata_2020-10.parquet\n",
            "2020/green/green_tripdata_2020-11.parquet\n",
            "2020/green/green_tripdata_2020-12.parquet\n",
            "2020/yellow/yellow_tripdata_2020-01.parquet\n",
            "2020/yellow/yellow_tripdata_2020-02.parquet\n",
            "2020/yellow/yellow_tripdata_2020-03.parquet\n",
            "2020/yellow/yellow_tripdata_2020-04.parquet\n",
            "2020/yellow/yellow_tripdata_2020-05.parquet\n",
            "2020/yellow/yellow_tripdata_2020-06.parquet\n",
            "2020/yellow/yellow_tripdata_2020-07.parquet\n",
            "2020/yellow/yellow_tripdata_2020-08.parquet\n",
            "2020/yellow/yellow_tripdata_2020-09.parquet\n",
            "2020/yellow/yellow_tripdata_2020-10.parquet\n",
            "2020/yellow/yellow_tripdata_2020-11.parquet\n",
            "2020/yellow/yellow_tripdata_2020-12.parquet\n",
            "2021/For-Hire/fhv_tripdata_2021-01.parquet\n",
            "2021/For-Hire/fhv_tripdata_2021-02.parquet\n",
            "2021/For-Hire/fhv_tripdata_2021-03.parquet\n",
            "2021/For-Hire/fhv_tripdata_2021-04.parquet\n",
            "2021/For-Hire/fhv_tripdata_2021-05.parquet\n",
            "2021/For-Hire/fhv_tripdata_2021-06.parquet\n",
            "2021/For-Hire/fhv_tripdata_2021-07.parquet\n",
            "2021/For-Hire/fhv_tripdata_2021-08.parquet\n",
            "2021/For-Hire/fhv_tripdata_2021-09.parquet\n",
            "2021/For-Hire/fhv_tripdata_2021-10.parquet\n",
            "2021/For-Hire/fhv_tripdata_2021-11.parquet\n",
            "2021/For-Hire/fhv_tripdata_2021-12.parquet\n",
            "2021/High Volume/fhvhv_tripdata_2021-01.parquet\n",
            "2021/High Volume/fhvhv_tripdata_2021-02.parquet\n",
            "2021/High Volume/fhvhv_tripdata_2021-03.parquet\n",
            "2021/High Volume/fhvhv_tripdata_2021-04.parquet\n",
            "2021/High Volume/fhvhv_tripdata_2021-05.parquet\n",
            "2021/High Volume/fhvhv_tripdata_2021-06.parquet\n",
            "2021/High Volume/fhvhv_tripdata_2021-07.parquet\n",
            "2021/High Volume/fhvhv_tripdata_2021-08.parquet\n",
            "2021/green/green_tripdata_2021-01.parquet\n",
            "2021/green/green_tripdata_2021-02.parquet\n",
            "2021/green/green_tripdata_2021-03.parquet\n",
            "2021/green/green_tripdata_2021-04.parquet\n",
            "2021/green/green_tripdata_2021-05.parquet\n",
            "2021/green/green_tripdata_2021-06.parquet\n",
            "2021/green/green_tripdata_2021-07.parquet\n",
            "2021/green/green_tripdata_2021-08.parquet\n",
            "2021/green/green_tripdata_2021-09.parquet\n",
            "2021/green/green_tripdata_2021-10.parquet\n",
            "2021/green/green_tripdata_2021-11.parquet\n",
            "2021/green/green_tripdata_2021-12.parquet\n",
            "2021/yellow/yellow_tripdata_2021-01.parquet\n",
            "2021/yellow/yellow_tripdata_2021-02.parquet\n",
            "2021/yellow/yellow_tripdata_2021-03.parquet\n",
            "2021/yellow/yellow_tripdata_2021-06.parquet\n",
            "2021/yellow/yellow_tripdata_2021-07.parquet\n",
            "2021/yellow/yellow_tripdata_2021-08.parquet\n",
            "2021/yellow/yellow_tripdata_2021-09.parquet\n",
            "2021/yellow/yellow_tripdata_2021-10.parquet\n",
            "2021/yellow/yellow_tripdata_2021-11.parquet\n",
            "2021/yellow/yellow_tripdata_2021-12.parquet\n",
            "2022/For-Hire/fhv_tripdata_2022-01.parquet\n",
            "2022/For-Hire/fhv_tripdata_2022-02.parquet\n",
            "2022/For-Hire/fhv_tripdata_2022-03.parquet\n",
            "2022/For-Hire/fhv_tripdata_2022-04.parquet\n",
            "2022/For-Hire/fhv_tripdata_2022-05.parquet\n",
            "2022/For-Hire/fhv_tripdata_2022-06.parquet\n",
            "2022/For-Hire/fhv_tripdata_2022-07.parquet\n",
            "2022/For-Hire/fhv_tripdata_2022-08.parquet\n",
            "2022/For-Hire/fhv_tripdata_2022-09.parquet\n",
            "2022/For-Hire/fhv_tripdata_2022-10.parquet\n",
            "2022/For-Hire/fhv_tripdata_2022-11.parquet\n",
            "2022/For-Hire/fhv_tripdata_2022-12.parquet\n",
            "2022/green/green_tripdata_2022-01.parquet\n",
            "2022/green/green_tripdata_2022-02.parquet\n",
            "2022/green/green_tripdata_2022-03.parquet\n",
            "2022/green/green_tripdata_2022-04.parquet\n",
            "2022/green/green_tripdata_2022-05.parquet\n",
            "2022/green/green_tripdata_2022-06.parquet\n",
            "2022/green/green_tripdata_2022-07.parquet\n",
            "2022/green/green_tripdata_2022-08.parquet\n",
            "2022/green/green_tripdata_2022-09.parquet\n",
            "2022/green/green_tripdata_2022-10.parquet\n",
            "2022/green/green_tripdata_2022-11.parquet\n",
            "2022/green/green_tripdata_2022-12.parquet\n",
            "2022/yellow/yellow_tripdata_2022-01.parquet\n",
            "2022/yellow/yellow_tripdata_2022-02.parquet\n",
            "2022/yellow/yellow_tripdata_2022-03.parquet\n",
            "2022/yellow/yellow_tripdata_2022-04.parquet\n",
            "2022/yellow/yellow_tripdata_2022-05.parquet\n",
            "2022/yellow/yellow_tripdata_2022-06.parquet\n",
            "2022/yellow/yellow_tripdata_2022-07.parquet\n",
            "2022/yellow/yellow_tripdata_2022-08.parquet\n",
            "2022/yellow/yellow_tripdata_2022-09.parquet\n",
            "2022/yellow/yellow_tripdata_2022-10.parquet\n",
            "2022/yellow/yellow_tripdata_2022-11.parquet\n",
            "2022/yellow/yellow_tripdata_2022-12.parquet\n",
            "2023/For-Hire/fhv_tripdata_2023-01.parquet\n",
            "2023/For-Hire/fhv_tripdata_2023-02.parquet\n",
            "2023/For-Hire/fhv_tripdata_2023-03.parquet\n",
            "2023/For-Hire/fhv_tripdata_2023-04.parquet\n",
            "2023/For-Hire/fhv_tripdata_2023-05.parquet\n",
            "2023/For-Hire/fhv_tripdata_2023-06.parquet\n",
            "2023/For-Hire/fhv_tripdata_2023-07.parquet\n",
            "2023/For-Hire/fhv_tripdata_2023-08.parquet\n",
            "2023/For-Hire/fhv_tripdata_2023-09.parquet\n",
            "2023/For-Hire/fhv_tripdata_2023-10.parquet\n",
            "2023/For-Hire/fhv_tripdata_2023-11.parquet\n",
            "2023/For-Hire/fhv_tripdata_2023-12.parquet\n",
            "2023/green/green_tripdata_2023-01.parquet\n",
            "2023/green/green_tripdata_2023-02.parquet\n",
            "2023/green/green_tripdata_2023-03.parquet\n",
            "2023/green/green_tripdata_2023-04.parquet\n",
            "2023/green/green_tripdata_2023-05.parquet\n",
            "2023/green/green_tripdata_2023-06.parquet\n",
            "2023/green/green_tripdata_2023-07.parquet\n",
            "2023/green/green_tripdata_2023-08.parquet\n",
            "2023/green/green_tripdata_2023-09.parquet\n",
            "2023/green/green_tripdata_2023-10.parquet\n",
            "2023/green/green_tripdata_2023-11.parquet\n",
            "2023/green/green_tripdata_2023-12.parquet\n",
            "2023/yellow/yellow_tripdata_2023-01.parquet\n",
            "2023/yellow/yellow_tripdata_2023-02.parquet\n",
            "2023/yellow/yellow_tripdata_2023-03.parquet\n",
            "2023/yellow/yellow_tripdata_2023-04.parquet\n",
            "2023/yellow/yellow_tripdata_2023-05.parquet\n",
            "2023/yellow/yellow_tripdata_2023-06.parquet\n",
            "2023/yellow/yellow_tripdata_2023-07.parquet\n",
            "2023/yellow/yellow_tripdata_2023-08.parquet\n",
            "2023/yellow/yellow_tripdata_2023-09.parquet\n",
            "2023/yellow/yellow_tripdata_2023-10.parquet\n",
            "2023/yellow/yellow_tripdata_2023-11.parquet\n",
            "2023/yellow/yellow_tripdata_2023-12.parquet\n",
            "2024/For-Hire/fhv_tripdata_2024-01.parquet\n",
            "2024/green/green_tripdata_2024-01.parquet\n",
            "2024/yellow/yellow_tripdata_2024-01.parquet\n",
            "aire/DOHMH_AirQualityIndicator_DataDictionary__March2023_.xlsx\n",
            "aire/User_Guide___Air_Quality_indicator_data_for_NYC__October_2020_.pdf\n",
            "co2/energy.csv\n",
            "data diccionary/data_dictionary_trip_records_fhv.pdf\n",
            "data diccionary/data_dictionary_trip_records_green.pdf\n",
            "data diccionary/data_dictionary_trip_records_hvfhs.pdf\n",
            "data diccionary/data_dictionary_trip_records_yellow.pdf\n",
            "data diccionary/trip_record_user_guide.pdf\n",
            "data diccionary/working_parquet_format.pdf\n",
            "data diccionary/yellow_tripdata_2009-01.parquet\n",
            "data viajes/taxi_zone_lookup.csv\n",
            "data viajes/taxi_zone_map_bronx.jpg\n",
            "data viajes/taxi_zone_map_brooklyn.jpg\n",
            "data viajes/taxi_zone_map_manhattan.jpg\n",
            "data viajes/taxi_zone_map_queens.jpg\n",
            "data viajes/taxi_zone_map_staten_island.jpg\n",
            "data viajes/taxi_zones.zip\n",
            "data viajes/taxi_zones/taxi_zones.dbf\n",
            "data viajes/taxi_zones/taxi_zones.prj\n",
            "data viajes/taxi_zones/taxi_zones.sbn\n",
            "data viajes/taxi_zones/taxi_zones.sbx\n",
            "data viajes/taxi_zones/taxi_zones.shp\n",
            "data viajes/taxi_zones/taxi_zones.shp.xml\n",
            "data viajes/taxi_zones/taxi_zones.shx\n",
            "datasets/Alternative Fuel Vehicles US.csv\n",
            "datasets/Electric and Alternative Fuel Charging Stations.csv\n",
            "datasets/ElectricCarData_Clean.csv\n",
            "datasets/ElectricCarData_Norm.csv\n",
            "datasets/Light Duty Vehicles.csv\n",
            "datasets/green_tripdata_2024-01.parquet\n",
            "datasets/taxi+_zone_lookup.csv\n",
            "datasets/taxi_zones.dbf\n",
            "fuel consumption/am1995-2004-cotes-de-consommation-de-carburant-cinq-cycles.csv\n",
            "fuel consumption/am1995-2014-cotes-de-consommation-de-carburant-originales-deux-cycles.csv\n",
            "fuel consumption/am2005-2014-cotes-de-consommation-de-carburant-cinq-cycles.csv\n",
            "fuel consumption/am2012-2024-vehicules-electriques-a-batterie.csv\n",
            "fuel consumption/am2012-2024-vehicules-hybrides-electriques-rechargeables.csv\n",
            "fuel consumption/am2015-2019-cotes-de-consommation-de-carburant.csv\n",
            "fuel consumption/am2020-cotes-de-consommation-de-carburant.csv\n",
            "fuel consumption/am2021-cotes-de-consommation-de-carburant.csv\n",
            "fuel consumption/am2022-cotes-de-consommation-de-carburant.csv\n",
            "fuel consumption/am2023-cotes-de-consommation-de-carburant.csv\n",
            "fuel consumption/am2024-cotes-de-consommation-de-carburant.csv\n",
            "fuel consumption/explication-des-tableaux.xlsx\n",
            "fuel consumption/my1995-2004-fuel-consumption-ratings-5-cycle.csv\n",
            "fuel consumption/my2005-2014-fuel-consumption-ratings-5-cycle.csv\n",
            "fuel consumption/my2012-2024-battery-electric-vehicles.csv\n",
            "fuel consumption/my2012-2024-plug-in-hybrid-electric-vehicles.csv\n",
            "fuel consumption/my2015-2019-fuel-consumption-ratings.csv\n",
            "fuel consumption/my2020-fuel-consumption-ratings.csv\n",
            "fuel consumption/my2021-fuel-consumption-ratings.csv\n",
            "fuel consumption/my2022-fuel-consumption-ratings.csv\n",
            "fuel consumption/my2023-fuel-consumption-ratings.csv\n",
            "fuel consumption/my2024-fuel-consumption-ratings.csv\n",
            "fuel consumption/original-my1995-2014-fuel-consumption-ratings-2-cycle.csv\n",
            "fuel consumption/understanding-the-tables.xlsx\n",
            "sonido/README.md\n",
            "sonido/annotations.csv\n"
          ]
        }
      ]
    },
    {
      "cell_type": "code",
      "source": [
        "import pandas as pd\n",
        "import pyarrow.parquet as pq\n"
      ],
      "metadata": {
        "id": "vbaarLD8vUxN"
      },
      "execution_count": null,
      "outputs": []
    },
    {
      "cell_type": "code",
      "source": [
        "# Acceder a un archivo Parquet\n",
        "bucket_name = 'bucket_datasets_principales'\n",
        "blob_name = '2009/yellow_tripdata_2009-02.parquet'\n",
        "bucket = client.get_bucket(bucket_name)\n",
        "blob = bucket.blob(blob_name)\n",
        "with blob.open(\"rb\") as f:\n",
        "    parquet_file = pq.read_table(f)\n",
        "df = parquet_file.to_pandas()\n"
      ],
      "metadata": {
        "id": "iGu2eEyevhtd"
      },
      "execution_count": null,
      "outputs": []
    },
    {
      "cell_type": "code",
      "source": [
        "from google.cloud import storage\n",
        "import pandas as pd\n",
        "import pyarrow.parquet as pq\n",
        "\n",
        "# Autenticar\n",
        "credentials_path = '/content/coastal-science-418413-cc76cc85ae9d.json'\n",
        "client = storage.Client.from_service_account_json(credentials_path)\n",
        "\n",
        "# Nombre del bucket y del objeto\n",
        "bucket_name = \"bucket_datasets_principales\"\n",
        "blob_name = \"2009/yellow_tripdata_2009-02.parquet\"\n",
        "\n",
        "# Acceder al bucket y al objeto (blob)\n",
        "bucket = client.get_bucket(bucket_name)\n",
        "blob = bucket.blob(blob_name)\n",
        "\n",
        "# Leer el archivo Parquet directamente desde el objeto blob\n",
        "parquet_file = pq.read_table(blob.open(\"rb\"))\n",
        "\n",
        "# Convertir los datos a un DataFrame de Pandas\n",
        "df = parquet_file.to_pandas()\n",
        "\n",
        "# Mostrar los primeros registros del DataFrame\n",
        "print(df.head())\n"
      ],
      "metadata": {
        "id": "GyehK8LFw2pW"
      },
      "execution_count": null,
      "outputs": []
    },
    {
      "cell_type": "code",
      "source": [
        "def cambiar_nombres_columnas_espanol(df):\n",
        "    # Definir el diccionario de mapeo de nombres de columnas\n",
        "    nombres_columnas_espanol = {\n",
        "        'vendor_name': 'Nombre_Vendedor',\n",
        "        'Trip_Pickup_DateTime': 'Fecha_Hora_Recogida',\n",
        "        'Trip_Dropoff_DateTime': 'Fecha_Hora_Entrega',\n",
        "        'Passenger_Count': 'Cantidad_Pasajeros',\n",
        "        'Trip_Distance': 'Distancia_Viaje',\n",
        "        'Start_Lon': 'Longitud_Inicio',\n",
        "        'Start_Lat': 'Latitud_Inicio',\n",
        "        'Rate_Code': 'Codigo_Tarifa',\n",
        "        'store_and_forward': 'Almacenamiento_Reenvio',\n",
        "        'End_Lon': 'Longitud_Fin',\n",
        "        'End_Lat': 'Latitud_Fin',\n",
        "        'Payment_Type': 'Tipo_Pago',\n",
        "        'Fare_Amt': 'Tarifa_Amount',\n",
        "        'surcharge': 'Recargo',\n",
        "        'mta_tax': 'Impuesto_MTA',\n",
        "        'Tip_Amt': 'Propina_Amount',\n",
        "        'Tolls_Amt': 'Peajes_Amount',\n",
        "        'Total_Amt': 'Monto_Total'\n",
        "    }\n",
        "\n",
        "    # Renombrar las columnas\n",
        "    df.rename(columns=nombres_columnas_espanol, inplace=True)\n",
        "\n",
        "    return df\n"
      ],
      "metadata": {
        "id": "3ar0bzxCDvDT"
      },
      "execution_count": null,
      "outputs": []
    },
    {
      "cell_type": "code",
      "source": [
        "def aplicar_transformaciones(df):\n",
        "    # Aplicar la función de cambio de nombres de columnas a español\n",
        "    df = cambiar_nombres_columnas_espanol(df)\n",
        "\n",
        "    # Realizar otras transformaciones si es necesario\n",
        "    # ...\n",
        "\n",
        "    return df"
      ],
      "metadata": {
        "id": "dtAma5QSD8z-"
      },
      "execution_count": null,
      "outputs": []
    },
    {
      "cell_type": "code",
      "source": [
        "df = aplicar_transformaciones(df)\n",
        "df.columns"
      ],
      "metadata": {
        "id": "TbhczyNLEb-q"
      },
      "execution_count": null,
      "outputs": []
    },
    {
      "cell_type": "code",
      "source": [
        "# Contar valores nulos por columna\n",
        "valores_nulos_por_columna = df.isnull().sum()\n",
        "print(valores_nulos_por_columna)\n"
      ],
      "metadata": {
        "id": "6TqpQni-Ffvn"
      },
      "execution_count": null,
      "outputs": []
    },
    {
      "cell_type": "code",
      "source": [
        "# Contar filas duplicadas\n",
        "filas_duplicadas = df.duplicated().sum()\n",
        "print(filas_duplicadas)"
      ],
      "metadata": {
        "id": "pYiU0HftHtSX"
      },
      "execution_count": null,
      "outputs": []
    },
    {
      "cell_type": "code",
      "source": [
        "import numpy as np\n",
        "\n",
        "# Calcular el rango intercuartílico\n",
        "Q1 = df.quantile(0.25)\n",
        "Q3 = df.quantile(0.75)\n",
        "IQR = Q3 - Q1\n",
        "\n",
        "# Identificar los outliers\n",
        "outliers = ((df < (Q1 - 1.5 * IQR)) | (df > (Q3 + 1.5 * IQR))).sum()\n",
        "\n",
        "print(outliers)"
      ],
      "metadata": {
        "id": "0vBbuQAfIDSW"
      },
      "execution_count": null,
      "outputs": []
    },
    {
      "cell_type": "code",
      "source": [
        "df.head ()"
      ],
      "metadata": {
        "id": "barBZu6pIpb9"
      },
      "execution_count": null,
      "outputs": []
    },
    {
      "cell_type": "code",
      "source": [
        "# mostrar los distintos valores de la columna 'columna'\n",
        "valores_distintos = df['Tipo_Pago'].unique()\n",
        "print(valores_distintos)\n"
      ],
      "metadata": {
        "id": "cNXfWwIUJSi6"
      },
      "execution_count": null,
      "outputs": []
    },
    {
      "cell_type": "code",
      "source": [
        "# Diccionario de mapeo de valores originales a sus equivalentes en español y normalizados\n",
        "mapeo_valores = {\n",
        "    'CASH': 'Efectivo',\n",
        "    'Cash': 'Efectivo',\n",
        "    'Credit': 'Crédito',\n",
        "    'CREDIT': 'Crédito',\n",
        "    'No Charge': 'Sin Cargo',\n",
        "    'Dispute': 'Disputa'\n",
        "}\n",
        "\n",
        "# Aplicar el mapeo a la columna 'Tipo_Pago'\n",
        "df['Tipo_Pago'] = df['Tipo_Pago'].replace(mapeo_valores)\n",
        "\n",
        "# Verificar los valores únicos después del mapeo\n",
        "valores_distintos_despues = df['Tipo_Pago'].unique()\n",
        "print(valores_distintos_despues)\n"
      ],
      "metadata": {
        "id": "3EtnyIMuJ83j"
      },
      "execution_count": null,
      "outputs": []
    },
    {
      "cell_type": "code",
      "source": [
        "import pandas as pd\n",
        "\n",
        "# DataFrame llamado df con las columnas Fecha_Hora_Recogida y Fecha_Hora_Entrega\n",
        "# las columnas son de tipo string y contienen fechas en el formato \"YYYY-MM-DD HH:MM:SS\"\n",
        "\n",
        "# Paso 1: Convertir las columnas de cadena a objetos de fecha y hora\n",
        "df['Fecha_Hora_Recogida'] = pd.to_datetime(df['Fecha_Hora_Recogida'])\n",
        "df['Fecha_Hora_Entrega'] = pd.to_datetime(df['Fecha_Hora_Entrega'])\n",
        "\n",
        "# Paso 2: Formatear las columnas\n",
        "df['Fecha_Hora_Recogida_Formateada'] = df['Fecha_Hora_Recogida'].dt.strftime(\"%d/%m/%Y %H:%M:%S\")\n",
        "df['Fecha_Hora_Entrega_Formateada'] = df['Fecha_Hora_Entrega'].dt.strftime(\"%d/%m/%Y %H:%M:%S\")\n",
        "\n",
        "# Imprimir el DataFrame con las nuevas columnas formateadas\n",
        "print(df)\n"
      ],
      "metadata": {
        "id": "gctCqixjMBcX"
      },
      "execution_count": null,
      "outputs": []
    }
  ]
}