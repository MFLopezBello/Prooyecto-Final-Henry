{
 "cells": [
  {
   "cell_type": "markdown",
   "metadata": {},
   "source": [
    "| Tarea                                      | Duración Estimada | Inicio    | Fin       |\n",
    "|--------------------------------------------|-------------------|-----------|-----------|\n",
    "| Investigación Inicial y Recopilación de Datos | 3 días         | 2024-03-12 | 2024-03-16 |\n",
    "| Preparación de los Datos para el Análisis  | 3 días            | 2024-03-13 | 2024-03-16 |\n",
    "| Análisis Inicial de Datos                  | 2 días            | 2024-03-12 | 2024-03-15 |\n",
    "| Preparación de Presentación                | 1 día             | 2024-03-20| 2024-03-21 |\n"
   ]
  }
 ],
 "metadata": {
  "language_info": {
   "name": "python"
  }
 },
 "nbformat": 4,
 "nbformat_minor": 2
}
