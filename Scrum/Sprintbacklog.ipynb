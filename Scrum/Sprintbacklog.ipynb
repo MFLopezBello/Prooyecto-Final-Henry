{
 "cells": [
  {
   "cell_type": "markdown",
   "metadata": {},
   "source": [
    "| Tarea                                      | Duración Estimada | Inicio    | Fin       |\n",
    "|--------------------------------------------|-------------------|-----------|-----------|\n",
    "| Investigación Inicial y Recopilación de Datos | 3 días         | 2024-03-17 | 2024-03-19 |\n",
    "| Preparación de los Datos para el Análisis  | 2 días            | 2024-03-20 | 2024-03-21 |\n",
    "| Análisis Inicial de Datos                  | 3 días            | 2024-03-22 | 2024-03-24 |\n",
    "| Preparación de Presentación                | 1 día             | 2024-03-25 | 2024-03-25 |\n"
   ]
  }
 ],
 "metadata": {
  "language_info": {
   "name": "python"
  }
 },
 "nbformat": 4,
 "nbformat_minor": 2
}
