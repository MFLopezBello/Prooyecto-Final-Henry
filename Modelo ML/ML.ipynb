{
 "cells": [
  {
   "cell_type": "markdown",
   "metadata": {},
   "source": [
    "# Módulo MACHINE LEARNING\n",
    "___"
   ]
  },
  {
   "cell_type": "markdown",
   "metadata": {},
   "source": [
    "## Importamos librerías"
   ]
  },
  {
   "cell_type": "code",
   "execution_count": 1,
   "metadata": {},
   "outputs": [],
   "source": [
    "import pandas as pd\n",
    "import numpy as np\n",
    "from sklearn.model_selection import train_test_split\n",
    "from sklearn.ensemble import RandomForestRegressor\n",
    "from sklearn.metrics import mean_squared_error, r2_score"
   ]
  },
  {
   "cell_type": "markdown",
   "metadata": {},
   "source": [
    "## Carga dataset para entrenamiento"
   ]
  },
  {
   "cell_type": "code",
   "execution_count": 19,
   "metadata": {},
   "outputs": [],
   "source": [
    "df_ml = pd.read_csv(\"../datasets/df_ml.csv\")"
   ]
  },
  {
   "cell_type": "markdown",
   "metadata": {},
   "source": [
    "## Función Entrenamiento"
   ]
  },
  {
   "cell_type": "code",
   "execution_count": 20,
   "metadata": {},
   "outputs": [],
   "source": [
    "def train_random_forest(df_ml):\n",
    "    # Seleccionar características de entrada (X) y variable objetivo (y)\n",
    "    X = df_ml[['day_week', 'Hour', 'location_id']]\n",
    "    y = df_ml['optimization']\n",
    "\n",
    "    # Dividir los datos en conjuntos de entrenamiento y prueba\n",
    "    X_train, X_test, y_train, y_test = train_test_split(X, y, test_size=0.2, random_state=42)\n",
    "\n",
    "    # Inicializar el modelo de Random Forests\n",
    "    model = RandomForestRegressor(n_estimators=100, random_state=42)\n",
    "\n",
    "    # Entrenar el modelo con los datos de entrenamiento\n",
    "    model.fit(X_train, y_train)\n",
    "\n",
    "    # Evaluar el modelo con los datos de prueba\n",
    "    y_pred = model.predict(X_test)\n",
    "    mse = mean_squared_error(y_test, y_pred)\n",
    "    r2 = r2_score(y_test, y_pred)\n",
    "\n",
    "    # Mostrar las métricas de evaluación\n",
    "    print(f\"Error cuadrático medio (MSE): {mse}\")\n",
    "    print(f\"Coeficiente de determinación (R^2): {r2}\")\n",
    "\n",
    "    return model"
   ]
  },
  {
   "cell_type": "markdown",
   "metadata": {},
   "source": [
    "## Función de Uso"
   ]
  },
  {
   "cell_type": "code",
   "execution_count": 21,
   "metadata": {},
   "outputs": [],
   "source": [
    "def get_top_5_location_id(date, hour, model, df_ml):\n",
    "    # Convertir la fecha a day_week\n",
    "    date = pd.to_datetime(date)\n",
    "    day_week = date.dayofweek\n",
    "\n",
    "    # Crear un DataFrame con todas las combinaciones de location_id, day_week, y Hour\n",
    "    unique_locations = df_ml['location_id'].unique()\n",
    "    test_data = pd.DataFrame({\n",
    "        'location_id': unique_locations,\n",
    "        'day_week': [day_week] * len(unique_locations),\n",
    "        'Hour': [hour] * len(unique_locations)\n",
    "    })\n",
    "\n",
    "    test_data = test_data[['day_week', 'Hour', 'location_id']]\n",
    "\n",
    "    # Predecir el valor de optimization para todas las combinaciones\n",
    "    predictions = model.predict(test_data)\n",
    "\n",
    "    # Añadir las predicciones al DataFrame\n",
    "    test_data['optimization'] = predictions\n",
    "\n",
    "    # Ordenar el DataFrame por la columna optimization en orden descendente\n",
    "    test_data_sorted = test_data.sort_values(by='optimization', ascending=False)\n",
    "\n",
    "    # Seleccionar los 5 mejores location_id\n",
    "    top_5_locations = test_data_sorted.head(5)['location_id']\n",
    "\n",
    "    # Retornar los 5 mejores location_id\n",
    "    return list(top_5_locations)"
   ]
  },
  {
   "cell_type": "markdown",
   "metadata": {},
   "source": [
    "## Entrenamos modelo"
   ]
  },
  {
   "cell_type": "code",
   "execution_count": 22,
   "metadata": {},
   "outputs": [
    {
     "name": "stdout",
     "output_type": "stream",
     "text": [
      "Error cuadrático medio (MSE): 10.829733289956579\n",
      "Coeficiente de determinación (R^2): 0.9845221583079596\n"
     ]
    }
   ],
   "source": [
    "# Entrenar el modelo de Random Forests con df_ml\n",
    "model = train_random_forest(df_ml)"
   ]
  },
  {
   "cell_type": "markdown",
   "metadata": {},
   "source": [
    "## Ejemplo de uso"
   ]
  },
  {
   "cell_type": "code",
   "execution_count": 23,
   "metadata": {},
   "outputs": [
    {
     "name": "stdout",
     "output_type": "stream",
     "text": [
      "Top 5 location_id: [132, 48, 230, 68, 79]\n"
     ]
    }
   ],
   "source": [
    "date = \"2024-01-01\"  # Fecha de ejemplo\n",
    "hour = 5  # Hora de ejemplo\n",
    "\n",
    "top_5_locations = get_top_5_location_id(date, hour, model, df_ml)\n",
    "print(\"Top 5 location_id:\", top_5_locations)"
   ]
  }
 ],
 "metadata": {
  "kernelspec": {
   "display_name": "Python 3",
   "language": "python",
   "name": "python3"
  },
  "language_info": {
   "codemirror_mode": {
    "name": "ipython",
    "version": 3
   },
   "file_extension": ".py",
   "mimetype": "text/x-python",
   "name": "python",
   "nbconvert_exporter": "python",
   "pygments_lexer": "ipython3",
   "version": "3.11.4"
  }
 },
 "nbformat": 4,
 "nbformat_minor": 2
}
